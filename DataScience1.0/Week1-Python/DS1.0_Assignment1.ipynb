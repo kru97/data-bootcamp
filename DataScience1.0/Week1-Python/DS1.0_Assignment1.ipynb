{
 "cells": [
  {
   "cell_type": "markdown",
   "id": "8d82d07b-4681-434f-a4d3-84dd4cf5e869",
   "metadata": {},
   "source": [
    "Data Science 1.0 Bootcamp \n",
    "Assignment 1 "
   ]
  },
  {
   "cell_type": "code",
   "execution_count": 27,
   "id": "892a21f9-9d3f-41c0-82cc-7ede6b378e10",
   "metadata": {},
   "outputs": [
    {
     "data": {
      "text/html": [
       "<div>\n",
       "<style scoped>\n",
       "    .dataframe tbody tr th:only-of-type {\n",
       "        vertical-align: middle;\n",
       "    }\n",
       "\n",
       "    .dataframe tbody tr th {\n",
       "        vertical-align: top;\n",
       "    }\n",
       "\n",
       "    .dataframe thead th {\n",
       "        text-align: right;\n",
       "    }\n",
       "</style>\n",
       "<table border=\"1\" class=\"dataframe\">\n",
       "  <thead>\n",
       "    <tr style=\"text-align: right;\">\n",
       "      <th></th>\n",
       "      <th>Name</th>\n",
       "      <th>Age</th>\n",
       "      <th>Department</th>\n",
       "    </tr>\n",
       "  </thead>\n",
       "  <tbody>\n",
       "    <tr>\n",
       "      <th>0</th>\n",
       "      <td>Alice</td>\n",
       "      <td>25</td>\n",
       "      <td>HR</td>\n",
       "    </tr>\n",
       "    <tr>\n",
       "      <th>1</th>\n",
       "      <td>Bob</td>\n",
       "      <td>30</td>\n",
       "      <td>IT</td>\n",
       "    </tr>\n",
       "    <tr>\n",
       "      <th>2</th>\n",
       "      <td>Charlie</td>\n",
       "      <td>35</td>\n",
       "      <td>Finance</td>\n",
       "    </tr>\n",
       "    <tr>\n",
       "      <th>3</th>\n",
       "      <td>David</td>\n",
       "      <td>40</td>\n",
       "      <td>Marketing</td>\n",
       "    </tr>\n",
       "    <tr>\n",
       "      <th>4</th>\n",
       "      <td>Eve</td>\n",
       "      <td>45</td>\n",
       "      <td>Operations</td>\n",
       "    </tr>\n",
       "  </tbody>\n",
       "</table>\n",
       "</div>"
      ],
      "text/plain": [
       "      Name  Age  Department\n",
       "0    Alice   25          HR\n",
       "1      Bob   30          IT\n",
       "2  Charlie   35     Finance\n",
       "3    David   40   Marketing\n",
       "4      Eve   45  Operations"
      ]
     },
     "execution_count": 27,
     "metadata": {},
     "output_type": "execute_result"
    }
   ],
   "source": [
    "import pandas as pd\n",
    "data = pd.DataFrame({\n",
    "    'Name': ['Alice', 'Bob', 'Charlie', 'David', 'Eve'],\n",
    "    'Age': [25, 30, 35, 40, 45],\n",
    "    'Department': ['HR', 'IT', 'Finance', 'Marketing', 'Operations']\n",
    "})\n",
    "data"
   ]
  },
  {
   "cell_type": "markdown",
   "id": "343efb2f-154f-4f4a-9668-2bf43ebbfa07",
   "metadata": {},
   "source": [
    "1. Display the first three rows of the DataFrame.\n"
   ]
  },
  {
   "cell_type": "code",
   "execution_count": 28,
   "id": "02b7b66a-e4d7-4b31-9418-53527c8920bb",
   "metadata": {},
   "outputs": [
    {
     "data": {
      "text/html": [
       "<div>\n",
       "<style scoped>\n",
       "    .dataframe tbody tr th:only-of-type {\n",
       "        vertical-align: middle;\n",
       "    }\n",
       "\n",
       "    .dataframe tbody tr th {\n",
       "        vertical-align: top;\n",
       "    }\n",
       "\n",
       "    .dataframe thead th {\n",
       "        text-align: right;\n",
       "    }\n",
       "</style>\n",
       "<table border=\"1\" class=\"dataframe\">\n",
       "  <thead>\n",
       "    <tr style=\"text-align: right;\">\n",
       "      <th></th>\n",
       "      <th>Name</th>\n",
       "      <th>Age</th>\n",
       "      <th>Department</th>\n",
       "    </tr>\n",
       "  </thead>\n",
       "  <tbody>\n",
       "    <tr>\n",
       "      <th>0</th>\n",
       "      <td>Alice</td>\n",
       "      <td>25</td>\n",
       "      <td>HR</td>\n",
       "    </tr>\n",
       "    <tr>\n",
       "      <th>1</th>\n",
       "      <td>Bob</td>\n",
       "      <td>30</td>\n",
       "      <td>IT</td>\n",
       "    </tr>\n",
       "    <tr>\n",
       "      <th>2</th>\n",
       "      <td>Charlie</td>\n",
       "      <td>35</td>\n",
       "      <td>Finance</td>\n",
       "    </tr>\n",
       "  </tbody>\n",
       "</table>\n",
       "</div>"
      ],
      "text/plain": [
       "      Name  Age Department\n",
       "0    Alice   25         HR\n",
       "1      Bob   30         IT\n",
       "2  Charlie   35    Finance"
      ]
     },
     "execution_count": 28,
     "metadata": {},
     "output_type": "execute_result"
    }
   ],
   "source": [
    "data.head(3)"
   ]
  },
  {
   "cell_type": "markdown",
   "id": "b94823c7-3d9d-4a4f-b3f4-a2cdc719e708",
   "metadata": {},
   "source": [
    "2. Select and display only the 'Age' column from the DataFrame."
   ]
  },
  {
   "cell_type": "code",
   "execution_count": 29,
   "id": "f9370510-6812-49d6-8fe1-f13c96e635a1",
   "metadata": {},
   "outputs": [
    {
     "data": {
      "text/plain": [
       "0    25\n",
       "1    30\n",
       "2    35\n",
       "3    40\n",
       "4    45\n",
       "Name: Age, dtype: int64"
      ]
     },
     "metadata": {},
     "output_type": "display_data"
    }
   ],
   "source": [
    "display(data['Age'])"
   ]
  },
  {
   "cell_type": "code",
   "execution_count": null,
   "id": "2904a901-7412-48f6-bc1c-46a9c2c5737d",
   "metadata": {},
   "outputs": [],
   "source": [
    "3. Filter and display employees older than 30."
   ]
  },
  {
   "cell_type": "code",
   "execution_count": 30,
   "id": "c3651d22-5840-4925-a81b-27f5479ee72b",
   "metadata": {},
   "outputs": [
    {
     "data": {
      "text/html": [
       "<div>\n",
       "<style scoped>\n",
       "    .dataframe tbody tr th:only-of-type {\n",
       "        vertical-align: middle;\n",
       "    }\n",
       "\n",
       "    .dataframe tbody tr th {\n",
       "        vertical-align: top;\n",
       "    }\n",
       "\n",
       "    .dataframe thead th {\n",
       "        text-align: right;\n",
       "    }\n",
       "</style>\n",
       "<table border=\"1\" class=\"dataframe\">\n",
       "  <thead>\n",
       "    <tr style=\"text-align: right;\">\n",
       "      <th></th>\n",
       "      <th>Name</th>\n",
       "      <th>Age</th>\n",
       "      <th>Department</th>\n",
       "    </tr>\n",
       "  </thead>\n",
       "  <tbody>\n",
       "    <tr>\n",
       "      <th>2</th>\n",
       "      <td>Charlie</td>\n",
       "      <td>35</td>\n",
       "      <td>Finance</td>\n",
       "    </tr>\n",
       "    <tr>\n",
       "      <th>3</th>\n",
       "      <td>David</td>\n",
       "      <td>40</td>\n",
       "      <td>Marketing</td>\n",
       "    </tr>\n",
       "    <tr>\n",
       "      <th>4</th>\n",
       "      <td>Eve</td>\n",
       "      <td>45</td>\n",
       "      <td>Operations</td>\n",
       "    </tr>\n",
       "  </tbody>\n",
       "</table>\n",
       "</div>"
      ],
      "text/plain": [
       "      Name  Age  Department\n",
       "2  Charlie   35     Finance\n",
       "3    David   40   Marketing\n",
       "4      Eve   45  Operations"
      ]
     },
     "execution_count": 30,
     "metadata": {},
     "output_type": "execute_result"
    }
   ],
   "source": [
    "data[data['Age']>30]"
   ]
  },
  {
   "cell_type": "markdown",
   "id": "3e7b8b9d-7a75-44a7-96ce-10fa4fdeefcf",
   "metadata": {},
   "source": [
    "4. Add a new column 'Experience' with values [5, 10, 15, 20, 25]."
   ]
  },
  {
   "cell_type": "code",
   "execution_count": 31,
   "id": "35568183-bb04-4b8b-ae23-326810dbab98",
   "metadata": {},
   "outputs": [
    {
     "data": {
      "text/html": [
       "<div>\n",
       "<style scoped>\n",
       "    .dataframe tbody tr th:only-of-type {\n",
       "        vertical-align: middle;\n",
       "    }\n",
       "\n",
       "    .dataframe tbody tr th {\n",
       "        vertical-align: top;\n",
       "    }\n",
       "\n",
       "    .dataframe thead th {\n",
       "        text-align: right;\n",
       "    }\n",
       "</style>\n",
       "<table border=\"1\" class=\"dataframe\">\n",
       "  <thead>\n",
       "    <tr style=\"text-align: right;\">\n",
       "      <th></th>\n",
       "      <th>Name</th>\n",
       "      <th>Age</th>\n",
       "      <th>Department</th>\n",
       "      <th>Experience</th>\n",
       "    </tr>\n",
       "  </thead>\n",
       "  <tbody>\n",
       "    <tr>\n",
       "      <th>0</th>\n",
       "      <td>Alice</td>\n",
       "      <td>25</td>\n",
       "      <td>HR</td>\n",
       "      <td>5</td>\n",
       "    </tr>\n",
       "    <tr>\n",
       "      <th>1</th>\n",
       "      <td>Bob</td>\n",
       "      <td>30</td>\n",
       "      <td>IT</td>\n",
       "      <td>10</td>\n",
       "    </tr>\n",
       "    <tr>\n",
       "      <th>2</th>\n",
       "      <td>Charlie</td>\n",
       "      <td>35</td>\n",
       "      <td>Finance</td>\n",
       "      <td>15</td>\n",
       "    </tr>\n",
       "    <tr>\n",
       "      <th>3</th>\n",
       "      <td>David</td>\n",
       "      <td>40</td>\n",
       "      <td>Marketing</td>\n",
       "      <td>20</td>\n",
       "    </tr>\n",
       "    <tr>\n",
       "      <th>4</th>\n",
       "      <td>Eve</td>\n",
       "      <td>45</td>\n",
       "      <td>Operations</td>\n",
       "      <td>25</td>\n",
       "    </tr>\n",
       "  </tbody>\n",
       "</table>\n",
       "</div>"
      ],
      "text/plain": [
       "      Name  Age  Department  Experience\n",
       "0    Alice   25          HR           5\n",
       "1      Bob   30          IT          10\n",
       "2  Charlie   35     Finance          15\n",
       "3    David   40   Marketing          20\n",
       "4      Eve   45  Operations          25"
      ]
     },
     "execution_count": 31,
     "metadata": {},
     "output_type": "execute_result"
    }
   ],
   "source": [
    "data['Experience']  = ([5,10,15,20,25])\n",
    "data"
   ]
  },
  {
   "cell_type": "markdown",
   "id": "a0f1ba21-4b33-4252-9b60-9317edfa12e6",
   "metadata": {},
   "source": [
    "5. Delete the 'Department' column from the DataFrame."
   ]
  },
  {
   "cell_type": "code",
   "execution_count": 32,
   "id": "f4cd82f3-6ce0-4974-9219-b6a72d621ac6",
   "metadata": {},
   "outputs": [
    {
     "data": {
      "text/html": [
       "<div>\n",
       "<style scoped>\n",
       "    .dataframe tbody tr th:only-of-type {\n",
       "        vertical-align: middle;\n",
       "    }\n",
       "\n",
       "    .dataframe tbody tr th {\n",
       "        vertical-align: top;\n",
       "    }\n",
       "\n",
       "    .dataframe thead th {\n",
       "        text-align: right;\n",
       "    }\n",
       "</style>\n",
       "<table border=\"1\" class=\"dataframe\">\n",
       "  <thead>\n",
       "    <tr style=\"text-align: right;\">\n",
       "      <th></th>\n",
       "      <th>Name</th>\n",
       "      <th>Age</th>\n",
       "      <th>Experience</th>\n",
       "    </tr>\n",
       "  </thead>\n",
       "  <tbody>\n",
       "    <tr>\n",
       "      <th>0</th>\n",
       "      <td>Alice</td>\n",
       "      <td>25</td>\n",
       "      <td>5</td>\n",
       "    </tr>\n",
       "    <tr>\n",
       "      <th>1</th>\n",
       "      <td>Bob</td>\n",
       "      <td>30</td>\n",
       "      <td>10</td>\n",
       "    </tr>\n",
       "    <tr>\n",
       "      <th>2</th>\n",
       "      <td>Charlie</td>\n",
       "      <td>35</td>\n",
       "      <td>15</td>\n",
       "    </tr>\n",
       "    <tr>\n",
       "      <th>3</th>\n",
       "      <td>David</td>\n",
       "      <td>40</td>\n",
       "      <td>20</td>\n",
       "    </tr>\n",
       "    <tr>\n",
       "      <th>4</th>\n",
       "      <td>Eve</td>\n",
       "      <td>45</td>\n",
       "      <td>25</td>\n",
       "    </tr>\n",
       "  </tbody>\n",
       "</table>\n",
       "</div>"
      ],
      "text/plain": [
       "      Name  Age  Experience\n",
       "0    Alice   25           5\n",
       "1      Bob   30          10\n",
       "2  Charlie   35          15\n",
       "3    David   40          20\n",
       "4      Eve   45          25"
      ]
     },
     "execution_count": 32,
     "metadata": {},
     "output_type": "execute_result"
    }
   ],
   "source": [
    "data.drop('Department', axis=1)"
   ]
  },
  {
   "cell_type": "markdown",
   "id": "7a5b0fdf-9f4f-4d2b-8244-93c30b7316ed",
   "metadata": {},
   "source": [
    "6. Show how to sort the DataFrame by the 'Age' column."
   ]
  },
  {
   "cell_type": "code",
   "execution_count": 33,
   "id": "65101426-36b1-4bdb-b4ad-1b392781be77",
   "metadata": {},
   "outputs": [
    {
     "data": {
      "text/html": [
       "<div>\n",
       "<style scoped>\n",
       "    .dataframe tbody tr th:only-of-type {\n",
       "        vertical-align: middle;\n",
       "    }\n",
       "\n",
       "    .dataframe tbody tr th {\n",
       "        vertical-align: top;\n",
       "    }\n",
       "\n",
       "    .dataframe thead th {\n",
       "        text-align: right;\n",
       "    }\n",
       "</style>\n",
       "<table border=\"1\" class=\"dataframe\">\n",
       "  <thead>\n",
       "    <tr style=\"text-align: right;\">\n",
       "      <th></th>\n",
       "      <th>Name</th>\n",
       "      <th>Age</th>\n",
       "      <th>Department</th>\n",
       "      <th>Experience</th>\n",
       "    </tr>\n",
       "  </thead>\n",
       "  <tbody>\n",
       "    <tr>\n",
       "      <th>0</th>\n",
       "      <td>Alice</td>\n",
       "      <td>25</td>\n",
       "      <td>HR</td>\n",
       "      <td>5</td>\n",
       "    </tr>\n",
       "    <tr>\n",
       "      <th>1</th>\n",
       "      <td>Bob</td>\n",
       "      <td>30</td>\n",
       "      <td>IT</td>\n",
       "      <td>10</td>\n",
       "    </tr>\n",
       "    <tr>\n",
       "      <th>2</th>\n",
       "      <td>Charlie</td>\n",
       "      <td>35</td>\n",
       "      <td>Finance</td>\n",
       "      <td>15</td>\n",
       "    </tr>\n",
       "    <tr>\n",
       "      <th>3</th>\n",
       "      <td>David</td>\n",
       "      <td>40</td>\n",
       "      <td>Marketing</td>\n",
       "      <td>20</td>\n",
       "    </tr>\n",
       "    <tr>\n",
       "      <th>4</th>\n",
       "      <td>Eve</td>\n",
       "      <td>45</td>\n",
       "      <td>Operations</td>\n",
       "      <td>25</td>\n",
       "    </tr>\n",
       "  </tbody>\n",
       "</table>\n",
       "</div>"
      ],
      "text/plain": [
       "      Name  Age  Department  Experience\n",
       "0    Alice   25          HR           5\n",
       "1      Bob   30          IT          10\n",
       "2  Charlie   35     Finance          15\n",
       "3    David   40   Marketing          20\n",
       "4      Eve   45  Operations          25"
      ]
     },
     "execution_count": 33,
     "metadata": {},
     "output_type": "execute_result"
    }
   ],
   "source": [
    "data.sort_values(by='Age', ascending=True)"
   ]
  },
  {
   "cell_type": "markdown",
   "id": "5aaea78d-f1fe-49ae-9876-81aaf53af4d2",
   "metadata": {},
   "source": [
    "7. Group the employees by 'Department' and find the average age per department."
   ]
  },
  {
   "cell_type": "code",
   "execution_count": 34,
   "id": "851e3558-042a-4f0c-a3ac-59a9f21fee95",
   "metadata": {},
   "outputs": [
    {
     "data": {
      "text/plain": [
       "Department\n",
       "Finance       35.0\n",
       "HR            25.0\n",
       "IT            30.0\n",
       "Marketing     40.0\n",
       "Operations    45.0\n",
       "Name: Age, dtype: float64"
      ]
     },
     "execution_count": 34,
     "metadata": {},
     "output_type": "execute_result"
    }
   ],
   "source": [
    "groupby_frame = data.groupby('Department')['Age']\n",
    "groupby_frame.mean()"
   ]
  },
  {
   "cell_type": "markdown",
   "id": "751e834e-fb63-4aa2-ba9c-0e67fbeebbc4",
   "metadata": {},
   "source": [
    "8. Create a new DataFrame from the existing one, containing only the 'Name' and 'Age' columns."
   ]
  },
  {
   "cell_type": "code",
   "execution_count": 35,
   "id": "b2ba2a8f-24be-4cfd-ae93-fef076cd7731",
   "metadata": {},
   "outputs": [
    {
     "data": {
      "text/html": [
       "<div>\n",
       "<style scoped>\n",
       "    .dataframe tbody tr th:only-of-type {\n",
       "        vertical-align: middle;\n",
       "    }\n",
       "\n",
       "    .dataframe tbody tr th {\n",
       "        vertical-align: top;\n",
       "    }\n",
       "\n",
       "    .dataframe thead th {\n",
       "        text-align: right;\n",
       "    }\n",
       "</style>\n",
       "<table border=\"1\" class=\"dataframe\">\n",
       "  <thead>\n",
       "    <tr style=\"text-align: right;\">\n",
       "      <th></th>\n",
       "      <th>Name</th>\n",
       "      <th>Age</th>\n",
       "    </tr>\n",
       "  </thead>\n",
       "  <tbody>\n",
       "    <tr>\n",
       "      <th>0</th>\n",
       "      <td>Alice</td>\n",
       "      <td>25</td>\n",
       "    </tr>\n",
       "    <tr>\n",
       "      <th>1</th>\n",
       "      <td>Bob</td>\n",
       "      <td>30</td>\n",
       "    </tr>\n",
       "    <tr>\n",
       "      <th>2</th>\n",
       "      <td>Charlie</td>\n",
       "      <td>35</td>\n",
       "    </tr>\n",
       "    <tr>\n",
       "      <th>3</th>\n",
       "      <td>David</td>\n",
       "      <td>40</td>\n",
       "    </tr>\n",
       "    <tr>\n",
       "      <th>4</th>\n",
       "      <td>Eve</td>\n",
       "      <td>45</td>\n",
       "    </tr>\n",
       "  </tbody>\n",
       "</table>\n",
       "</div>"
      ],
      "text/plain": [
       "      Name  Age\n",
       "0    Alice   25\n",
       "1      Bob   30\n",
       "2  Charlie   35\n",
       "3    David   40\n",
       "4      Eve   45"
      ]
     },
     "execution_count": 35,
     "metadata": {},
     "output_type": "execute_result"
    }
   ],
   "source": [
    "df = pd.DataFrame({\n",
    "    'Name': ['Alice', 'Bob', 'Charlie', 'David', 'Eve'],\n",
    "    'Age': [25, 30, 35, 40, 45]\n",
    "})\n",
    "df"
   ]
  },
  {
   "cell_type": "markdown",
   "id": "94f70f75-6e06-48f9-856c-6734d9b9f48c",
   "metadata": {},
   "source": [
    "9. Apply a lambda function to the 'Age' column to categorize employees as 'Young', 'Middle-aged', and 'Old'."
   ]
  },
  {
   "cell_type": "code",
   "execution_count": 36,
   "id": "bd1ce496-b3b6-4d5b-a611-9880adbb1bbf",
   "metadata": {},
   "outputs": [
    {
     "data": {
      "text/html": [
       "<div>\n",
       "<style scoped>\n",
       "    .dataframe tbody tr th:only-of-type {\n",
       "        vertical-align: middle;\n",
       "    }\n",
       "\n",
       "    .dataframe tbody tr th {\n",
       "        vertical-align: top;\n",
       "    }\n",
       "\n",
       "    .dataframe thead th {\n",
       "        text-align: right;\n",
       "    }\n",
       "</style>\n",
       "<table border=\"1\" class=\"dataframe\">\n",
       "  <thead>\n",
       "    <tr style=\"text-align: right;\">\n",
       "      <th></th>\n",
       "      <th>Name</th>\n",
       "      <th>Age</th>\n",
       "      <th>Age Category</th>\n",
       "    </tr>\n",
       "  </thead>\n",
       "  <tbody>\n",
       "    <tr>\n",
       "      <th>0</th>\n",
       "      <td>Alice</td>\n",
       "      <td>25</td>\n",
       "      <td>Young</td>\n",
       "    </tr>\n",
       "    <tr>\n",
       "      <th>1</th>\n",
       "      <td>Bob</td>\n",
       "      <td>30</td>\n",
       "      <td>Middle-aged</td>\n",
       "    </tr>\n",
       "    <tr>\n",
       "      <th>2</th>\n",
       "      <td>Charlie</td>\n",
       "      <td>35</td>\n",
       "      <td>Middle-aged</td>\n",
       "    </tr>\n",
       "    <tr>\n",
       "      <th>3</th>\n",
       "      <td>David</td>\n",
       "      <td>40</td>\n",
       "      <td>Middle-aged</td>\n",
       "    </tr>\n",
       "    <tr>\n",
       "      <th>4</th>\n",
       "      <td>Eve</td>\n",
       "      <td>45</td>\n",
       "      <td>Old</td>\n",
       "    </tr>\n",
       "  </tbody>\n",
       "</table>\n",
       "</div>"
      ],
      "text/plain": [
       "      Name  Age Age Category\n",
       "0    Alice   25        Young\n",
       "1      Bob   30  Middle-aged\n",
       "2  Charlie   35  Middle-aged\n",
       "3    David   40  Middle-aged\n",
       "4      Eve   45          Old"
      ]
     },
     "execution_count": 36,
     "metadata": {},
     "output_type": "execute_result"
    }
   ],
   "source": [
    "df['Age Category'] = df['Age'].apply(lambda x: 'Young' if x<30 else('Middle-aged' if x<45 else 'Old' ))\n",
    "df"
   ]
  },
  {
   "cell_type": "markdown",
   "id": "61a698b5-b133-43d4-ac4b-575277e987e1",
   "metadata": {},
   "source": [
    "10. Save this DataFrame to a CSV file named 'employees.csv'."
   ]
  },
  {
   "cell_type": "code",
   "execution_count": 37,
   "id": "9aa22a90-c598-44f5-a37d-04131af596fd",
   "metadata": {},
   "outputs": [],
   "source": [
    "data.to_csv(r'C:\\Users\\670299354\\Documents\\GitHub\\data-bootcamp\\employee1.csv', index=False)\n"
   ]
  },
  {
   "cell_type": "code",
   "execution_count": 2,
   "id": "e419eaf3-77ed-4c8f-bf23-054591c1b58b",
   "metadata": {},
   "outputs": [
    {
     "data": {
      "text/plain": [
       "array([ 10,  20,  30,  40,  50,  60,  70,  80,  90, 100])"
      ]
     },
     "execution_count": 2,
     "metadata": {},
     "output_type": "execute_result"
    }
   ],
   "source": [
    "\n",
    "import numpy as np\n",
    "array = np.array([10, 20, 30, 40, 50, 60, 70, 80, 90, 100])\n",
    "array\n"
   ]
  },
  {
   "cell_type": "markdown",
   "id": "96d57dfb-1e23-4da0-87ea-5c92094a23f9",
   "metadata": {},
   "source": [
    "1. Print all elements of the array greater than 50."
   ]
  },
  {
   "cell_type": "code",
   "execution_count": 11,
   "id": "4459739a-1f8b-43be-ad90-4dda3b22a468",
   "metadata": {},
   "outputs": [
    {
     "data": {
      "text/plain": [
       "array([ 60,  70,  80,  90, 100])"
      ]
     },
     "execution_count": 11,
     "metadata": {},
     "output_type": "execute_result"
    }
   ],
   "source": [
    "array[array>50]"
   ]
  },
  {
   "cell_type": "markdown",
   "id": "155f6b1c-c368-47f3-99ae-946f8bca45d5",
   "metadata": {},
   "source": [
    "2. Reshape this array into a 2x5 matrix."
   ]
  },
  {
   "cell_type": "code",
   "execution_count": 10,
   "id": "e86bfa60-b289-4499-a9fd-20c16da23913",
   "metadata": {},
   "outputs": [
    {
     "data": {
      "text/plain": [
       "array([[ 10,  20,  30,  40,  50],\n",
       "       [ 60,  70,  80,  90, 100]])"
      ]
     },
     "execution_count": 10,
     "metadata": {},
     "output_type": "execute_result"
    }
   ],
   "source": [
    "array.reshape(2,5)"
   ]
  },
  {
   "cell_type": "markdown",
   "id": "543be7bf-2c64-4110-afa7-1ee744284a8f",
   "metadata": {},
   "source": [
    "3. Calculate and print the mean of the array."
   ]
  },
  {
   "cell_type": "code",
   "execution_count": 12,
   "id": "1abdba90-13f1-46a2-bf2f-bed9016a99b8",
   "metadata": {},
   "outputs": [
    {
     "data": {
      "text/plain": [
       "55.0"
      ]
     },
     "execution_count": 12,
     "metadata": {},
     "output_type": "execute_result"
    }
   ],
   "source": [
    "array.mean()"
   ]
  },
  {
   "cell_type": "markdown",
   "id": "f2f4b5a2-2058-434c-b465-a62fb84dfccf",
   "metadata": {},
   "source": [
    "4. Slice the array to include only the last five elements."
   ]
  },
  {
   "cell_type": "code",
   "execution_count": 14,
   "id": "8331c312-03ab-4df3-a557-1b91993a7043",
   "metadata": {},
   "outputs": [
    {
     "data": {
      "text/plain": [
       "array([ 60,  70,  80,  90, 100])"
      ]
     },
     "execution_count": 14,
     "metadata": {},
     "output_type": "execute_result"
    }
   ],
   "source": [
    "array[-5:]"
   ]
  },
  {
   "cell_type": "markdown",
   "id": "ee6b1109-cf8c-4fde-853c-98847aea40c5",
   "metadata": {},
   "source": [
    "5. Multiply every element of the array by 2."
   ]
  },
  {
   "cell_type": "code",
   "execution_count": 15,
   "id": "ed163576-07a8-42e4-a535-fccb2d5af986",
   "metadata": {},
   "outputs": [],
   "source": [
    "array = array * 2"
   ]
  },
  {
   "cell_type": "code",
   "execution_count": 16,
   "id": "83205c92-4ef8-42d9-a36d-3e0f6dfd647d",
   "metadata": {},
   "outputs": [
    {
     "data": {
      "text/plain": [
       "array([ 20,  40,  60,  80, 100, 120, 140, 160, 180, 200])"
      ]
     },
     "execution_count": 16,
     "metadata": {},
     "output_type": "execute_result"
    }
   ],
   "source": [
    "array"
   ]
  },
  {
   "cell_type": "markdown",
   "id": "3ce10202-2f32-447c-ad3e-ce98a14ca0c4",
   "metadata": {},
   "source": [
    "6. Find the standard deviation of the array."
   ]
  },
  {
   "cell_type": "code",
   "execution_count": 17,
   "id": "1c47041d-d62d-423e-821c-38f08140bf7f",
   "metadata": {},
   "outputs": [
    {
     "data": {
      "text/plain": [
       "57.445626465380286"
      ]
     },
     "execution_count": 17,
     "metadata": {},
     "output_type": "execute_result"
    }
   ],
   "source": [
    "array.std()"
   ]
  },
  {
   "cell_type": "markdown",
   "id": "add8ed3a-864b-4dbb-955c-7c6882948e72",
   "metadata": {},
   "source": [
    "7. Print the array in reverse order."
   ]
  },
  {
   "cell_type": "code",
   "execution_count": 20,
   "id": "850b044e-6edf-486f-b6ad-deb3a94b060a",
   "metadata": {},
   "outputs": [
    {
     "data": {
      "text/plain": [
       "array([200, 180, 160, 140, 120, 100,  80,  60,  40,  20])"
      ]
     },
     "execution_count": 20,
     "metadata": {},
     "output_type": "execute_result"
    }
   ],
   "source": [
    "rev_array = np.flip(array)\n",
    "rev_array"
   ]
  },
  {
   "cell_type": "markdown",
   "id": "7155f3e5-f2f8-4956-affc-1b58ef69835a",
   "metadata": {},
   "source": [
    "9. Concatenate this array with another array [110, 120]."
   ]
  },
  {
   "cell_type": "code",
   "execution_count": 23,
   "id": "ad0cd52f-64a7-4d54-a9c2-5c4d25c9d153",
   "metadata": {},
   "outputs": [
    {
     "data": {
      "text/plain": [
       "array([ 20,  40,  60,  80, 100, 120, 140, 160, 180, 200, 110, 120])"
      ]
     },
     "execution_count": 23,
     "metadata": {},
     "output_type": "execute_result"
    }
   ],
   "source": [
    "np.concatenate((array, np.array([110,120])))"
   ]
  },
  {
   "cell_type": "markdown",
   "id": "5204b712-dfda-4c91-95d5-215b13aa2590",
   "metadata": {},
   "source": [
    "10. Save this array to a text file named 'data.txt'."
   ]
  },
  {
   "cell_type": "code",
   "execution_count": 26,
   "id": "2e90788c-c32f-40a6-b1f5-b00e148e902e",
   "metadata": {},
   "outputs": [],
   "source": [
    "np.savetxt('data.txt',array, fmt='%d')"
   ]
  },
  {
   "cell_type": "code",
   "execution_count": 39,
   "id": "e02d15a0-f797-4417-b613-971eec9bf1ec",
   "metadata": {},
   "outputs": [],
   "source": [
    "import pandas as pd\n",
    "import numpy as np\n",
    "import matplotlib.pyplot as plt\n",
    "import seaborn as sns\n",
    "\n",
    "# Create the DataFrame\n",
    "data = pd.DataFrame({\n",
    "    'Name': ['Alice', 'Bob', 'Charlie', 'David', 'Eve'],\n",
    "    'Age': [25, 30, 35, 40, 45],\n",
    "    'Department': ['HR', 'IT', 'Finance', 'Marketing', 'Operations'],\n",
    "    'Experience': [2, 4, 7, 10, 12]\n",
    "})\n"
   ]
  },
  {
   "cell_type": "markdown",
   "id": "a91cb94d-d869-4aca-88df-48a70d7dfd15",
   "metadata": {},
   "source": [
    "1. Create a line plot of 'Age' using matplotlib."
   ]
  },
  {
   "cell_type": "code",
   "execution_count": 41,
   "id": "2205d49c-cb5c-4982-9da0-69e6e1349cf6",
   "metadata": {},
   "outputs": [
    {
     "data": {
      "text/plain": [
       "Text(0, 0.5, 'Index')"
      ]
     },
     "execution_count": 41,
     "metadata": {},
     "output_type": "execute_result"
    },
    {
     "data": {
      "image/png": "[encoded data removed]",
      "text/plain": [
       "<Figure size 640x480 with 1 Axes>"
      ]
     },
     "metadata": {},
     "output_type": "display_data"
    }
   ],
   "source": [
    "plt.plot(data['Age'])\n",
    "plt.title(\"Age - Line Plot\")\n",
    "plt.xlabel('Index')\n",
    "plt.ylabel('Index')"
   ]
  },
  {
   "cell_type": "markdown",
   "id": "b17b7933-febd-4424-b8bd-086f08c80527",
   "metadata": {},
   "source": [
    "Generate a bar plot of 'Age' by 'Department' using seaborn."
   ]
  },
  {
   "cell_type": "code",
   "execution_count": 48,
   "id": "b3cc8855-8c3b-421b-bfef-9d0089990f35",
   "metadata": {},
   "outputs": [
    {
     "data": {
      "image/png": "[encoded data removed]",
      "text/plain": [
       "<Figure size 640x480 with 1 Axes>"
      ]
     },
     "metadata": {},
     "output_type": "display_data"
    }
   ],
   "source": [
    "sns.barplot(x='Department', y='Age', data=data)\n",
    "plt.title('Age group by deparment')\n",
    "plt.show()"
   ]
  },
  {
   "cell_type": "markdown",
   "id": "31ec4ee4-0386-45c1-a0ac-60e6cfe01f70",
   "metadata": {},
   "source": [
    "\n",
    "Create a histogram of 'Age' using matplotlib."
   ]
  },
  {
   "cell_type": "code",
   "execution_count": 49,
   "id": "c0a5d427-1a60-4d9e-b271-811df7da9a2d",
   "metadata": {},
   "outputs": [
    {
     "data": {
      "text/plain": [
       "(array([1., 1., 1., 1., 1.]),\n",
       " array([25., 29., 33., 37., 41., 45.]),\n",
       " <BarContainer object of 5 artists>)"
      ]
     },
     "execution_count": 49,
     "metadata": {},
     "output_type": "execute_result"
    },
    {
     "data": {
      "image/png": "[encoded data removed]",
      "text/plain": [
       "<Figure size 640x480 with 1 Axes>"
      ]
     },
     "metadata": {},
     "output_type": "display_data"
    }
   ],
   "source": [
    "plt.hist(data['Age'],bins=5)"
   ]
  },
  {
   "cell_type": "markdown",
   "id": "47ba3001-ac90-457e-82e0-e04e47ea7943",
   "metadata": {},
   "source": [
    "Build a box plot of 'Age' using seaborn."
   ]
  },
  {
   "cell_type": "code",
   "execution_count": 50,
   "id": "37d7be15-387a-4141-9557-df2cad536930",
   "metadata": {},
   "outputs": [
    {
     "data": {
      "text/plain": [
       "{'whiskers': [<matplotlib.lines.Line2D at 0x1fdd2dba0d0>,\n",
       "  <matplotlib.lines.Line2D at 0x1fdd2dbaad0>],\n",
       " 'caps': [<matplotlib.lines.Line2D at 0x1fdd2dbb2d0>,\n",
       "  <matplotlib.lines.Line2D at 0x1fdd2dbbc10>],\n",
       " 'boxes': [<matplotlib.lines.Line2D at 0x1fdd2db9910>],\n",
       " 'medians': [<matplotlib.lines.Line2D at 0x1fdd2dc4510>],\n",
       " 'fliers': [<matplotlib.lines.Line2D at 0x1fdd2dc4cd0>],\n",
       " 'means': []}"
      ]
     },
     "execution_count": 50,
     "metadata": {},
     "output_type": "execute_result"
    },
    {
     "data": {
      "image/png": "[encoded data removed]",
      "text/plain": [
       "<Figure size 640x480 with 1 Axes>"
      ]
     },
     "metadata": {},
     "output_type": "display_data"
    }
   ],
   "source": [
    "plt.boxplot(data['Age'])"
   ]
  },
  {
   "cell_type": "code",
   "execution_count": 52,
   "id": "00c59bfc-16fc-47c9-a20f-8faafbdb2771",
   "metadata": {},
   "outputs": [
    {
     "data": {
      "text/plain": [
       "<Axes: ylabel='Age'>"
      ]
     },
     "execution_count": 52,
     "metadata": {},
     "output_type": "execute_result"
    },
    {
     "data": {
      "image/png": "[encoded data removed]",
      "text/plain": [
       "<Figure size 640x480 with 1 Axes>"
      ]
     },
     "metadata": {},
     "output_type": "display_data"
    }
   ],
   "source": [
    "sns.boxplot(y='Age', data=data)"
   ]
  },
  {
   "cell_type": "markdown",
   "id": "0bc5fd3f-379c-456e-8aa7-386bd9989015",
   "metadata": {},
   "source": [
    "5. Create a scatter plot with 'Age' on x-axis and 'Experience' on y-axis using matplotlib."
   ]
  },
  {
   "cell_type": "code",
   "execution_count": 54,
   "id": "3e6a0bf0-087a-455e-bd98-f5255433a42b",
   "metadata": {},
   "outputs": [
    {
     "data": {
      "text/plain": [
       "Text(0, 0.5, 'Experience')"
      ]
     },
     "execution_count": 54,
     "metadata": {},
     "output_type": "execute_result"
    },
    {
     "data": {
      "image/png": "[encoded data removed]",
      "text/plain": [
       "<Figure size 640x480 with 1 Axes>"
      ]
     },
     "metadata": {},
     "output_type": "display_data"
    }
   ],
   "source": [
    "plt.scatter(x='Age',y='Experience',data=data)\n",
    "plt.xlabel('Age')\n",
    "plt.ylabel('Experience')"
   ]
  },
  {
   "cell_type": "markdown",
   "id": "2cabbd7a-ac6c-43cd-9eca-748d1b5dbe8f",
   "metadata": {},
   "source": [
    "Use seaborn to plot 'Experience' by 'Department' as a bar plot."
   ]
  },
  {
   "cell_type": "code",
   "execution_count": 57,
   "id": "4e922f47-ab67-443e-9b0c-676df46ed4f4",
   "metadata": {},
   "outputs": [
    {
     "data": {
      "text/plain": [
       "Text(0.5, 1.0, 'Experience by Department')"
      ]
     },
     "execution_count": 57,
     "metadata": {},
     "output_type": "execute_result"
    },
    {
     "data": {
      "image/png": "[encoded data removed]",
      "text/plain": [
       "<Figure size 640x480 with 1 Axes>"
      ]
     },
     "metadata": {},
     "output_type": "display_data"
    }
   ],
   "source": [
    "sns.barplot(x='Department',y='Experience',data=data)\n",
    "plt.title('Experience by Department')"
   ]
  },
  {
   "cell_type": "markdown",
   "id": "68cf7154-8cba-4df4-9758-b1759d3357ba",
   "metadata": {},
   "source": [
    "Customize a line plot with different markers for each point using matplotlib."
   ]
  },
  {
   "cell_type": "code",
   "execution_count": 59,
   "id": "1303ee8d-4dcd-451a-9a88-4eb18fe6ba61",
   "metadata": {},
   "outputs": [
    {
     "data": {
      "text/plain": [
       "[<matplotlib.lines.Line2D at 0x1fdd4510d10>]"
      ]
     },
     "execution_count": 59,
     "metadata": {},
     "output_type": "execute_result"
    },
    {
     "data": {
      "image/png": "[encoded data removed]",
      "text/plain": [
       "<Figure size 640x480 with 1 Axes>"
      ]
     },
     "metadata": {},
     "output_type": "display_data"
    }
   ],
   "source": [
    "plt.plot(data['Age'], marker='o')"
   ]
  },
  {
   "cell_type": "markdown",
   "id": "988e801a-1e0d-4d8f-aa50-73c71512cf5d",
   "metadata": {},
   "source": [
    "Create a pair plot of the DataFrame using seaborn."
   ]
  },
  {
   "cell_type": "code",
   "execution_count": 60,
   "id": "8e2d36ae-3c54-45b3-9a1d-d45959c1c5d0",
   "metadata": {},
   "outputs": [
    {
     "data": {
      "text/plain": [
       "<seaborn.axisgrid.PairGrid at 0x1fdd45b4c10>"
      ]
     },
     "execution_count": 60,
     "metadata": {},
     "output_type": "execute_result"
    },
    {
     "data": {
      "image/png": "[encoded data removed]",
      "text/plain": [
       "<Figure size 500x500 with 6 Axes>"
      ]
     },
     "metadata": {},
     "output_type": "display_data"
    }
   ],
   "source": [
    "sns.pairplot(data)"
   ]
  },
  {
   "cell_type": "code",
   "execution_count": 62,
   "id": "5abf9255-31d2-4380-9e5b-dd41c41d8281",
   "metadata": {},
   "outputs": [
    {
     "data": {
      "text/plain": [
       "<Axes: >"
      ]
     },
     "execution_count": 62,
     "metadata": {},
     "output_type": "execute_result"
    },
    {
     "data": {
      "image/png": "[encoded data removed]",
      "text/plain": [
       "<Figure size 640x480 with 2 Axes>"
      ]
     },
     "metadata": {},
     "output_type": "display_data"
    }
   ],
   "source": [
    "corr = data[['Age','Experience']].corr()\n",
    "sns.heatmap(corr)"
   ]
  },
  {
   "cell_type": "code",
   "execution_count": 65,
   "id": "9316a772-51f7-43f9-a380-e3c0de087a23",
   "metadata": {},
   "outputs": [
    {
     "data": {
      "image/png": "[encoded data removed]",
      "text/plain": [
       "<Figure size 640x480 with 1 Axes>"
      ]
     },
     "metadata": {},
     "output_type": "display_data"
    }
   ],
   "source": [
    "plt.plot(data['Age'])\n",
    "plt.savefig('plot.png')"
   ]
  },
  {
   "cell_type": "code",
   "execution_count": null,
   "id": "a44e27a9-50b7-4c0c-986e-7681a37f0317",
   "metadata": {},
   "outputs": [],
   "source": []
  }
 ],
 "metadata": {
  "kernelspec": {
   "display_name": "Python 3 (ipykernel)",
   "language": "python",
   "name": "python3"
  },
  "language_info": {
   "codemirror_mode": {
    "name": "ipython",
    "version": 3
   },
   "file_extension": ".py",
   "mimetype": "text/x-python",
   "name": "python",
   "nbconvert_exporter": "python",
   "pygments_lexer": "ipython3",
   "version": "3.11.9"
  }
 },
 "nbformat": 4,
 "nbformat_minor": 5
}
